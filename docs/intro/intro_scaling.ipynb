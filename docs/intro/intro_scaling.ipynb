{
 "cells": [
  {
   "cell_type": "markdown",
   "id": "1084b58e",
   "metadata": {},
   "source": [
    "# Scaling for Production\n",
    "\n",
    "This tutorial is aimed at users who wish to scale their application problems to the industrial scale supported by the Leap Hybrid Solvers.\n",
    "\n",
    "This guide will focus on [Constrained Quadratic Models (CQMs)](intro_cqm.rst) though most of the concept are applicable to [Binary Quadratic Models (BQMs)](intro_quadratic.rst#Supported-Models) and [Quadratic Models (QMs)](intro_quadratic.rst#Supported-Models).\n",
    "\n",
    "This guide does not discuss algorithmic complexity or problem formulation. For those topics, see the [Problem Solving Handbook](https://docs.dwavesys.com/docs/latest/doc_handbook.html).\n",
    "\n",
    "You can easily execute the code of this tutorial by downloading the [Jupyter notebook](https://github.com/dwavesystems/dimod/tree/main/docs/intro/intro_scaling.ipynb)."
   ]
  },
  {
   "cell_type": "markdown",
   "id": "68ef2b59",
   "metadata": {},
   "source": [
    "## Your first application\n",
    "\n",
    "Let us construct a simple [bin packing](https://w.wiki/3jz4) problem. We assume that each bin has a capacity of ``1``.\n",
    "\n",
    "We start by generating weights for the items we wish to pack. A packing problem with ``n`` items will result in a  CQM with ``n*(n+1)`` binary variables."
   ]
  },
  {
   "cell_type": "code",
   "execution_count": 1,
   "id": "e33c76e3",
   "metadata": {},
   "outputs": [],
   "source": [
    "import numpy as np\n",
    "\n",
    "num_items = 100  # results in 10100 binary variables\n",
    "\n",
    "weights = np.random.default_rng(42).random(num_items)"
   ]
  },
  {
   "cell_type": "markdown",
   "id": "8e26e49e",
   "metadata": {},
   "source": [
    "The first implementation is optimized for readability and pedagogy. Though as we will see, this comes at the cost of speed."
   ]
  },
  {
   "cell_type": "code",
   "execution_count": 2,
   "id": "b48160d7",
   "metadata": {},
   "outputs": [],
   "source": [
    "import typing\n",
    "\n",
    "import dimod\n",
    "\n",
    "\n",
    "def bin_packing(weights: typing.Sequence[float]) -> dimod.ConstrainedQuadraticModel:\n",
    "    \"\"\"Generate a bin packing problem as a constrained quadratic model.\"\"\"\n",
    "\n",
    "    n = len(weights)\n",
    "    \n",
    "    # y_j indicates that bin j is used\n",
    "    y = [dimod.Binary(f'y_{j}') for j in range(n)]\n",
    "    \n",
    "    # x_i,j indicates that item i is put in bin j\n",
    "    x = [[dimod.Binary(f'x_{i},{j}') for j in range(n)] for i in range(n)]\n",
    "    \n",
    "    cqm = dimod.ConstrainedQuadraticModel()\n",
    "    \n",
    "    # we wish to minimize the number of bins used\n",
    "    cqm.set_objective(sum(y))\n",
    "    \n",
    "    # each item can only go in one bin\n",
    "    for i in range(n):\n",
    "        cqm.add_constraint(sum(x[i]) == 1, label=f'item_placing_{i}')\n",
    "        \n",
    "    # each bin has a capacity that must be respected\n",
    "    for j in range(n):\n",
    "        cqm.add_constraint(sum(weights[i] * x[i][j] for i in range(n)) - y[j] <= 0,\n",
    "                           label=f'capacity_bin_{j}')\n",
    "        \n",
    "    return cqm"
   ]
  },
  {
   "cell_type": "markdown",
   "id": "29749a76",
   "metadata": {},
   "source": [
    "Let's see how long the construction takes."
   ]
  },
  {
   "cell_type": "code",
   "execution_count": 3,
   "id": "42749f48",
   "metadata": {},
   "outputs": [
    {
     "name": "stdout",
     "output_type": "stream",
     "text": [
      "385 ms ± 9.8 ms per loop (mean ± std. dev. of 7 runs, 1 loop each)\n"
     ]
    }
   ],
   "source": [
    "%timeit bin_packing(weights)"
   ]
  },
  {
   "cell_type": "code",
   "execution_count": 4,
   "id": "67755a70",
   "metadata": {
    "nbsphinx": "hidden"
   },
   "outputs": [],
   "source": [
    "# Save the CQM for later to double check that all of the functions are consistent.\n",
    "# This cell is hidden in the documentation\n",
    "cqm = bin_packing(weights)"
   ]
  },
  {
   "cell_type": "markdown",
   "id": "ba0f197f",
   "metadata": {},
   "source": [
    "## Use quicksum\n",
    "\n",
    "The first and easiest change we wan make is to use [quicksum()](../reference/quadratic.rst#BQM-functions)\n",
    "as a replacement for the Python [sum()](https://docs.python.org/3/library/functions.html#sum). Python's [sum()](https://docs.python.org/3/library/functions.html#sum) creates a large number of intermediate objects, whereas [quicksum()](../reference/quadratic.rst#BQM-functions) does not."
   ]
  },
  {
   "cell_type": "code",
   "execution_count": 5,
   "id": "8777df69",
   "metadata": {},
   "outputs": [],
   "source": [
    "import typing\n",
    "\n",
    "import dimod\n",
    "\n",
    "\n",
    "def bin_packing(weights: typing.Sequence[float]) -> dimod.ConstrainedQuadraticModel:\n",
    "    \"\"\"Generate a bin packing problem as a constrained quadratic model.\"\"\"\n",
    "\n",
    "    n = len(weights)\n",
    "    \n",
    "    # y_j indicates that bin j is used\n",
    "    y = [dimod.Binary(f'y_{j}') for j in range(n)]\n",
    "    \n",
    "    # x_i,j indicates that item i is put in bin j\n",
    "    x = [[dimod.Binary(f'x_{i},{j}') for j in range(n)] for i in range(n)]\n",
    "    \n",
    "    cqm = dimod.ConstrainedQuadraticModel()\n",
    "    \n",
    "    # we wish to minimize the number of bins used\n",
    "    cqm.set_objective(dimod.quicksum(y))\n",
    "    \n",
    "    # each item can only go in one bin\n",
    "    for i in range(n):\n",
    "        cqm.add_constraint(dimod.quicksum(x[i]) == 1, label=f'item_placing_{i}')\n",
    "        \n",
    "    # each bin has a capacity that must be respected\n",
    "    for j in range(n):\n",
    "        cqm.add_constraint(dimod.quicksum(weights[i] * x[i][j] for i in range(n)) - y[j] <= 0,\n",
    "                           label=f'capacity_bin_{j}')\n",
    "        \n",
    "    return cqm"
   ]
  },
  {
   "cell_type": "markdown",
   "id": "c168b2e0",
   "metadata": {},
   "source": [
    "This results in some time savings."
   ]
  },
  {
   "cell_type": "code",
   "execution_count": 6,
   "id": "2578ef2f",
   "metadata": {},
   "outputs": [
    {
     "name": "stdout",
     "output_type": "stream",
     "text": [
      "294 ms ± 9.39 ms per loop (mean ± std. dev. of 7 runs, 1 loop each)\n"
     ]
    }
   ],
   "source": [
    "%timeit bin_packing(weights)"
   ]
  },
  {
   "cell_type": "code",
   "execution_count": 7,
   "id": "905a36ef",
   "metadata": {
    "nbsphinx": "hidden"
   },
   "outputs": [],
   "source": [
    "# Sanity check\n",
    "# This cell is hidden in the documentation\n",
    "assert cqm.is_equal(bin_packing(weights))"
   ]
  },
  {
   "cell_type": "markdown",
   "id": "cbda0d03",
   "metadata": {},
   "source": [
    "## Construct the models individually\n",
    "\n",
    "Although ``quicksum()`` improves the performance, we can get an even bigger improvement by skipping symbolic construction altogether. See [Symbolic Math](intro_symbolic_math.rst) for a discussion of the difference between variables and labels.\n",
    "\n",
    "We can demonstrate the performance difference with a small example."
   ]
  },
  {
   "cell_type": "code",
   "execution_count": 8,
   "id": "45598216",
   "metadata": {},
   "outputs": [],
   "source": [
    "def make_bqm_symbolic(num_variables: int) -> dimod.BinaryQuadraticModel:\n",
    "    return dimod.quicksum(2*dimod.Binary(v) for v in range(num_variables))\n",
    "\n",
    "def make_bqm_labels(num_variables: int) -> dimod.BinaryQuadraticModel:\n",
    "    bqm = dimod.BinaryQuadraticModel('BINARY')\n",
    "    bqm.add_linear_from((v, 2) for v in range(num_variables))\n",
    "    return bqm"
   ]
  },
  {
   "cell_type": "markdown",
   "id": "e11e8273",
   "metadata": {},
   "source": [
    "Working directly with the variable labels and a single BQM object gives a significant speedup"
   ]
  },
  {
   "cell_type": "code",
   "execution_count": 9,
   "id": "d0c1ac4a",
   "metadata": {},
   "outputs": [
    {
     "name": "stdout",
     "output_type": "stream",
     "text": [
      "12.7 ms ± 213 µs per loop (mean ± std. dev. of 7 runs, 100 loops each)\n",
      "194 µs ± 2.32 µs per loop (mean ± std. dev. of 7 runs, 10000 loops each)\n"
     ]
    }
   ],
   "source": [
    "%timeit make_bqm_symbolic(1000)\n",
    "%timeit make_bqm_labels(1000)"
   ]
  },
  {
   "cell_type": "code",
   "execution_count": 10,
   "id": "615f954d",
   "metadata": {
    "nbsphinx": "hidden"
   },
   "outputs": [],
   "source": [
    "# Sanity check\n",
    "# This cell is hidden in the documentation\n",
    "assert make_bqm_symbolic(100).is_equal(make_bqm_labels(100))"
   ]
  },
  {
   "cell_type": "markdown",
   "id": "5fe230ab",
   "metadata": {},
   "source": [
    "Let's apply the construction by labels to our binpacking example"
   ]
  },
  {
   "cell_type": "code",
   "execution_count": 11,
   "id": "6f602b79",
   "metadata": {},
   "outputs": [],
   "source": [
    "import typing\n",
    "\n",
    "import dimod\n",
    "\n",
    "\n",
    "def bin_packing(weights: typing.Sequence[float]) -> dimod.ConstrainedQuadraticModel:\n",
    "    \"\"\"Generate a bin packing problem as a constrained quadratic model.\"\"\"\n",
    "\n",
    "    n = len(weights)\n",
    "    \n",
    "    # y_j indicates that bin j is used\n",
    "    y_labels = [f'y_{j}' for j in range(n)]\n",
    "    \n",
    "    # x_i,j indicates that item i is put in bin j\n",
    "    x_labels = [[f'x_{i},{j}' for j in range(n)] for i in range(n)]\n",
    "    \n",
    "    cqm = dimod.ConstrainedQuadraticModel()\n",
    "    \n",
    "    # we wish to minimize the number of bins used\n",
    "    objective = dimod.QuadraticModel()\n",
    "    objective.add_linear_from(((v, 1) for v in y_labels), default_vartype='BINARY')\n",
    "    cqm.set_objective(objective)\n",
    "    \n",
    "    # each item can only go in one bin\n",
    "    for i in range(n):\n",
    "        lhs = dimod.QuadraticModel()\n",
    "        lhs.add_linear_from(((v, 1) for v in x_labels[i]), default_vartype='BINARY')\n",
    "        cqm.add_constraint_from_model(lhs, rhs=1, sense='==', label=f'item_placing_{i}')\n",
    "        \n",
    "    # each bin has a capacity that must be respected\n",
    "    for j in range(n):\n",
    "        lhs = dimod.QuadraticModel()\n",
    "        lhs.add_linear_from(((x_labels[i][j], weights[i]) for i in range(n)), default_vartype='BINARY')\n",
    "        lhs.add_linear(y_labels[j], -1, default_vartype='BINARY')\n",
    "        cqm.add_constraint_from_model(lhs, rhs=0, sense='<=', label=f'capacity_bin_{j}')\n",
    "        \n",
    "    return cqm"
   ]
  },
  {
   "cell_type": "code",
   "execution_count": 12,
   "id": "fd383966",
   "metadata": {},
   "outputs": [
    {
     "name": "stdout",
     "output_type": "stream",
     "text": [
      "95.5 ms ± 2.87 ms per loop (mean ± std. dev. of 7 runs, 10 loops each)\n"
     ]
    }
   ],
   "source": [
    "%timeit bin_packing(weights)"
   ]
  },
  {
   "cell_type": "code",
   "execution_count": 13,
   "id": "6bff9710",
   "metadata": {
    "nbsphinx": "hidden"
   },
   "outputs": [],
   "source": [
    "# Sanity check\n",
    "# This cell is hidden in the documentation\n",
    "assert cqm.is_equal(bin_packing(weights))"
   ]
  },
  {
   "cell_type": "markdown",
   "id": "96992971",
   "metadata": {},
   "source": [
    "## Don't copy constraints\n",
    "\n",
    "By default ``CQM.add_constraint()`` create a copy of the objects given to it. However, in this case we are immediately discarding the models created in our function, so we can safely skip the copy step."
   ]
  },
  {
   "cell_type": "code",
   "execution_count": 14,
   "id": "52a44ebf",
   "metadata": {},
   "outputs": [],
   "source": [
    "import typing\n",
    "\n",
    "import dimod\n",
    "\n",
    "\n",
    "def bin_packing(weights: typing.Sequence[float]) -> dimod.ConstrainedQuadraticModel:\n",
    "    \"\"\"Generate a bin packing problem as a constrained quadratic model.\"\"\"\n",
    "\n",
    "    n = len(weights)\n",
    "    \n",
    "    # y_j indicates that bin j is used\n",
    "    y_labels = [f'y_{j}' for j in range(n)]\n",
    "    \n",
    "    # x_i,j indicates that item i is put in bin j\n",
    "    x_labels = [[f'x_{i},{j}' for j in range(n)] for i in range(n)]\n",
    "    \n",
    "    cqm = dimod.ConstrainedQuadraticModel()\n",
    "    \n",
    "    # we wish to minimize the number of bins used\n",
    "    objective = dimod.QuadraticModel()\n",
    "    objective.add_linear_from(((v, 1) for v in y_labels), default_vartype='BINARY')\n",
    "    cqm.set_objective(objective)\n",
    "    \n",
    "    # each item can only go in one bin\n",
    "    for i in range(n):\n",
    "        lhs = dimod.QuadraticModel()\n",
    "        lhs.add_linear_from(((v, 1) for v in x_labels[i]), default_vartype='BINARY')\n",
    "        cqm.add_constraint_from_model(lhs, rhs=1, sense='==', label=f'item_placing_{i}', copy=False)\n",
    "        \n",
    "    # each bin has a capacity that must be respected\n",
    "    for j in range(n):\n",
    "        lhs = dimod.QuadraticModel()\n",
    "        lhs.add_linear_from(((x_labels[i][j], weights[i]) for i in range(n)), default_vartype='BINARY')\n",
    "        lhs.add_linear(y_labels[j], -1, default_vartype='BINARY')\n",
    "        cqm.add_constraint_from_model(lhs, rhs=0, sense='<=', label=f'capacity_bin_{j}', copy=False)\n",
    "        \n",
    "    return cqm"
   ]
  },
  {
   "cell_type": "markdown",
   "id": "588e451d",
   "metadata": {},
   "source": [
    "This results in another performance improvement."
   ]
  },
  {
   "cell_type": "code",
   "execution_count": 15,
   "id": "06103427",
   "metadata": {},
   "outputs": [
    {
     "name": "stdout",
     "output_type": "stream",
     "text": [
      "68.1 ms ± 299 µs per loop (mean ± std. dev. of 7 runs, 10 loops each)\n"
     ]
    }
   ],
   "source": [
    "%timeit bin_packing(weights)"
   ]
  },
  {
   "cell_type": "code",
   "execution_count": 16,
   "id": "7ce2d2ed",
   "metadata": {
    "nbsphinx": "hidden"
   },
   "outputs": [],
   "source": [
    "# Sanity check\n",
    "# This cell is hidden in the documentation\n",
    "assert cqm.is_equal(bin_packing(weights))"
   ]
  }
 ],
 "metadata": {
  "kernelspec": {
   "display_name": "Python 3 (ipykernel)",
   "language": "python",
   "name": "python3"
  },
  "language_info": {
   "codemirror_mode": {
    "name": "ipython",
    "version": 3
   },
   "file_extension": ".py",
   "mimetype": "text/x-python",
   "name": "python",
   "nbconvert_exporter": "python",
   "pygments_lexer": "ipython3",
   "version": "3.8.2"
  }
 },
 "nbformat": 4,
 "nbformat_minor": 5
}
